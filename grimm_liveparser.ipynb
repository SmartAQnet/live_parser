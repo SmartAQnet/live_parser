{
 "cells": [
  {
   "cell_type": "code",
   "execution_count": 1,
   "metadata": {
    "tags": [
     "parameters"
    ]
   },
   "outputs": [],
   "source": [
    "parameter_mode='live'"
   ]
  },
  {
   "cell_type": "code",
   "execution_count": null,
   "metadata": {},
   "outputs": [],
   "source": [
    "import pandas as pd\n",
    "import json\n",
    "import requests\n",
    "import re\n",
    "from statistics import mode\n",
    "import datetime as dt\n",
    "from joblib import delayed, Parallel\n",
    "\n",
    "from basefunctions import ftpfunction as ftpfunc\n",
    "from basefunctions import parserfunctions as pf\n",
    "from basefunctions import grimmfunctions as grimm\n",
    "from basefunctions import requestfunction as requestfunc\n",
    "#from basefunctions import testfunctions as testfunc\n",
    "\n",
    "# local file that is not checked into github, containing the target credentials where to parse data from\n",
    "import saqncredentials"
   ]
  },
  {
   "cell_type": "markdown",
   "metadata": {},
   "source": [
    "# Basefunctions Library:\n",
    "\n",
    "## parserfunctions as pf:\n",
    "\n",
    "### pf.getThingFromProperties(url, domain, serialno)\n",
    "\n",
    "function that uses url, operator domain and serialno as string inputs and returns the saqn database entry of the thing    \n",
    "\n",
    "### pf.post_difference(targetdatastream, dataframe)\n",
    "\n",
    "wrapper function that executes getSymmDiff and postObservations in succession\n",
    "\n",
    "### pf.getSymmDiff(targetdatastream, dataframe)\n",
    "\n",
    "function that checks a list of observations against existing observations in the database by timestamp input is targetdatastream, dataframe. returns an equally formatted, reduced dataframe of missing observations\n",
    "\n",
    "### pf.postObservations(targetdatastream, dataframe)\n",
    "\n",
    "function that posts observations to the server. returns a dictionary of counts of successfull and failed posts\n",
    "\n",
    "## grimmfunctions as grimm:\n",
    "\n",
    "### grimm.parseGrimmFile(filepath)\n",
    "\n",
    "function that grabs a file from the ftp server when given a path and parses it, returning a dataframe\n",
    "\n",
    "### grimm.formatDataframe(df,filepath)\n",
    "\n",
    "function that formats the dataframe such that column heads are identical to saqn observedproperty iot.ids input is dataframe, filepath (to identify device type)\n",
    "\n",
    "---\n",
    "\n",
    "---\n",
    "\n",
    "    \n",
    "## OLD, not included\n",
    "\n",
    "### grimm.updateSoftwareNo(inputline,datastream)\n",
    "\n",
    "function that checks the [\"properties\"][\"software_version\"] field of a datastream with a new input of the form pd.Series({pandas timestamp, value}). mutates the datastream object (shallow copy!) and performs a patch request if necessary. returns the datastream so datastream=grimm.updateSoftwareNo(inputline,datastream) makes sense although the shallow copy should mutate it anyway\n",
    "\n",
    "--> probably belongs to pf library as it is not grimm specific\n",
    "\n",
    "---\n",
    "\n",
    "---\n",
    "\n",
    "## TODO\n",
    "\n",
    "- last calibration time to utc so that it is captured by the post function"
   ]
  },
  {
   "cell_type": "code",
   "execution_count": null,
   "metadata": {},
   "outputs": [],
   "source": [
    "#wrapper function for iteration. may also be parallelized or done in multiple serial calls\n",
    "\n",
    "# targeturl = \"http://193.196.38.108:8080/FROST-Server/v1.0\"\n",
    "targeturl = \"https://api.smartaq.net/v1.0\"\n",
    "operatordomain = \"grimm-aerosol.com\"\n",
    "\n",
    "if parameter_mode == 'live':\n",
    "    folder = saqncredentials.grimm.folder_live #folder for live data\n",
    "elif parameter_mode == 'historic':\n",
    "    folder = saqncredentials.grimm.folder_historic # folder for historic data, gathered during SAQN Project\n",
    "\n",
    "\n",
    "if 'parameter_thing' in globals():\n",
    "    allthings = [parameter_thing]\n",
    "else:\n",
    "    allthings = ftpfunc.getData(folder)\n",
    "\n",
    "\n",
    "EDM80OPCpattern=re.compile(\"(SN19[0-9]{3})\")\n",
    "EDM80OPCs = list(filter(EDM80OPCpattern.match,allthings))\n",
    "\n",
    "EDM80NEPHpattern=re.compile(\"(SN17[0-9]{3})\")\n",
    "EDM80NEPHs = list(filter(EDM80NEPHpattern.match,allthings))\n",
    "\n",
    "EDM164OPCpattern=re.compile(\"(OPC-[0-9]{3})\")\n",
    "EDM164OPCs = list(filter(EDM164OPCpattern.match,allthings))\n",
    "\n",
    "# thingsclustered = {\"EDM80NEPH\": EDM80NEPHs, \"EDM80OPC\": EDM80OPCs, \"EDM164OPC\": EDM164OPCs}\n",
    "# for devicetype in thingsclustered.keys():\n",
    "#     for thing in thingsclustered[devicetype]: \n",
    "\n",
    "for thing in allthings:\n",
    "\n",
    "    print(\"------------------------\")\n",
    "    print(\"NEW THING\")\n",
    "    print(\"------------------------\")\n",
    "    filelist=ftpfunc.getData(folder + \"/\" + thing)\n",
    "\n",
    "#     # reduce filelist so it contains the last 5 days plus the day 2 weeks ago\n",
    "#     today = dt.datetime.now()\n",
    "#     cropped_filelist = [file for file in filelist if dt.datetime.strptime(file[:10],'%Y-%m-%d')+ dt.timedelta(5) >= today]\n",
    "#     cropped_filelist += [file for file in filelist if (dt.datetime.strptime(file[:10],'%Y-%m-%d') + dt.timedelta(14)).date() == today.date()]\n",
    "#     print(cropped_filelist)\n",
    "\n",
    "    for file in filelist:\n",
    "    # for file in cropped_filelist:\n",
    "        filepath = folder + \"/\" + thing + \"/\" + file\n",
    "        print(\"------------------------\")\n",
    "        print(filepath)\n",
    "        print(\"------------------------\")\n",
    "\n",
    "        # get the file, parse it and format it for further progressing\n",
    "        df=grimm.parseGrimmFile(filepath)\n",
    "        df_formatted=grimm.formatDataframe(df,filepath)\n",
    "\n",
    "        # Check Serial Number Column whether they are all the same\n",
    "        serialmode=mode(df_formatted[\"hardware.id\"])\n",
    "\n",
    "        #check if the serial no that occurs most occurs more than 95% of the time. if yes, nonoccurence is considered a typo (throw warning in log but keep)\n",
    "        if(list(df_formatted[\"hardware.id\"]).count(serialmode)/len(list(df_formatted[\"hardware.id\"])) > 0.95 == False):\n",
    "            print(\"Warning: several serial numbers in one datasheet, needs manual inspection: \" + filepath)\n",
    "\n",
    "\n",
    "        # get the database info corresponding to the thing and its datastreams\n",
    "        saqnthing = pf.getThingFromProperties(targeturl, **{\"operator.domain\": operatordomain}, **{\"hardware.id\": serialmode})\n",
    "\n",
    "        sess = requestfunc.session(3, 2)\n",
    "        saqndatastreams = json.loads(sess.get(saqnthing[\"Datastreams@iot.navigationLink\"] + \"?$expand=ObservedProperty\").text)[\"value\"]\n",
    "\n",
    "        # for each datastream, check for missing observations\n",
    "        res=Parallel(n_jobs=2)(delayed(pf.post_difference)(targetdatastream,df_formatted) for targetdatastream in saqndatastreams)\n",
    "        print(res)"
   ]
  },
  {
   "cell_type": "code",
   "execution_count": 65,
   "metadata": {},
   "outputs": [],
   "source": [
    "# TODOs\n",
    "\n",
    "#lat lon filter für historical locations? mit gutem statistischen algorithmus ist das rauszubekommen\n",
    "#-> FoI so lassen wäre ein interessanter datensatz für gps, allerdings sind dann die messdaten unbrauchbar"
   ]
  },
  {
   "cell_type": "code",
   "execution_count": 2,
   "metadata": {},
   "outputs": [],
   "source": [
    "if 'test' in globals():\n",
    "    print(\"yes\")"
   ]
  },
  {
   "cell_type": "code",
   "execution_count": 3,
   "metadata": {},
   "outputs": [
    {
     "data": {
      "text/plain": [
       "{'__name__': '__main__',\n",
       " '__doc__': 'Automatically created module for IPython interactive environment',\n",
       " '__package__': None,\n",
       " '__loader__': None,\n",
       " '__spec__': None,\n",
       " '__builtin__': <module 'builtins' (built-in)>,\n",
       " '__builtins__': <module 'builtins' (built-in)>,\n",
       " '_ih': ['',\n",
       "  'if(testvar):\\n    print(\"yes\")\\nelse:\\n    print(\"no\")',\n",
       "  'if \\'test\\' in globals():\\n    print(\"yes\")',\n",
       "  'globals()'],\n",
       " '_oh': {},\n",
       " '_dh': ['C:\\\\Users\\\\Paul\\\\Documents\\\\SmartAQnet\\\\docker-airflow\\\\live_parser'],\n",
       " 'In': ['',\n",
       "  'if(testvar):\\n    print(\"yes\")\\nelse:\\n    print(\"no\")',\n",
       "  'if \\'test\\' in globals():\\n    print(\"yes\")',\n",
       "  'globals()'],\n",
       " 'Out': {},\n",
       " 'get_ipython': <bound method InteractiveShell.get_ipython of <ipykernel.zmqshell.ZMQInteractiveShell object at 0x0000021650B17F88>>,\n",
       " 'exit': <IPython.core.autocall.ZMQExitAutocall at 0x21650b42ec8>,\n",
       " 'quit': <IPython.core.autocall.ZMQExitAutocall at 0x21650b42ec8>,\n",
       " '_': '',\n",
       " '__': '',\n",
       " '___': '',\n",
       " '_i': 'if \\'test\\' in globals():\\n    print(\"yes\")',\n",
       " '_ii': 'if(testvar):\\n    print(\"yes\")\\nelse:\\n    print(\"no\")',\n",
       " '_iii': '',\n",
       " '_i1': 'if(testvar):\\n    print(\"yes\")\\nelse:\\n    print(\"no\")',\n",
       " '_i2': 'if \\'test\\' in globals():\\n    print(\"yes\")',\n",
       " '_i3': 'globals()'}"
      ]
     },
     "execution_count": 3,
     "metadata": {},
     "output_type": "execute_result"
    }
   ],
   "source": [
    "globals()"
   ]
  },
  {
   "cell_type": "code",
   "execution_count": null,
   "metadata": {},
   "outputs": [],
   "source": []
  }
 ],
 "metadata": {
  "celltoolbar": "Tags",
  "kernelspec": {
   "display_name": "Python 3",
   "language": "python",
   "name": "python3"
  },
  "language_info": {
   "codemirror_mode": {
    "name": "ipython",
    "version": 3
   },
   "file_extension": ".py",
   "mimetype": "text/x-python",
   "name": "python",
   "nbconvert_exporter": "python",
   "pygments_lexer": "ipython3",
   "version": "3.7.6"
  }
 },
 "nbformat": 4,
 "nbformat_minor": 4
}
